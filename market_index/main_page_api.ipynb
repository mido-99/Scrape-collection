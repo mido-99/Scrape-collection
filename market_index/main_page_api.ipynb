{
 "cells": [
  {
   "cell_type": "code",
   "execution_count": 17,
   "id": "8a17d20c",
   "metadata": {},
   "outputs": [],
   "source": [
    "import requests\n",
    "import json\n",
    "from bs4 import BeautifulSoup"
   ]
  },
  {
   "cell_type": "code",
   "execution_count": 68,
   "id": "b1ef0e4e",
   "metadata": {},
   "outputs": [],
   "source": [
    "from requests_html import HTMLSession\n",
    "session = HTMLSession()"
   ]
  },
  {
   "cell_type": "code",
   "execution_count": 69,
   "id": "1436fb29",
   "metadata": {},
   "outputs": [],
   "source": [
    "url = \"https://www.marketindex.com.au/api/v1/market/indicies/all-ordinaries/CHIA\"\n",
    "r = session.get(url)\n",
    "#r.html.render()\n"
   ]
  },
  {
   "cell_type": "code",
   "execution_count": 70,
   "id": "3c735bf7",
   "metadata": {},
   "outputs": [
    {
     "data": {
      "text/plain": [
       "200"
      ]
     },
     "execution_count": 70,
     "metadata": {},
     "output_type": "execute_result"
    }
   ],
   "source": [
    "r.status_code"
   ]
  },
  {
   "cell_type": "code",
   "execution_count": 58,
   "id": "4a17f734",
   "metadata": {},
   "outputs": [
    {
     "data": {
      "text/plain": [
       "'Enable JavaScript and cookies to continue'"
      ]
     },
     "execution_count": 58,
     "metadata": {},
     "output_type": "execute_result"
    }
   ],
   "source": [
    "soup = BeautifulSoup(response.text, 'html.parser')\n",
    "soup.find('body').text"
   ]
  },
  {
   "cell_type": "code",
   "execution_count": 85,
   "id": "b0354fbd",
   "metadata": {},
   "outputs": [
    {
     "ename": "AttributeError",
     "evalue": "'NoneType' object has no attribute 'text'",
     "output_type": "error",
     "traceback": [
      "\u001b[1;31m---------------------------------------------------------------------------\u001b[0m",
      "\u001b[1;31mAttributeError\u001b[0m                            Traceback (most recent call last)",
      "Cell \u001b[1;32mIn [85], line 2\u001b[0m\n\u001b[0;32m      1\u001b[0m soup \u001b[38;5;241m=\u001b[39m BeautifulSoup(r\u001b[38;5;241m.\u001b[39mtext, \u001b[38;5;124m'\u001b[39m\u001b[38;5;124mhtml.parser\u001b[39m\u001b[38;5;124m'\u001b[39m)\n\u001b[1;32m----> 2\u001b[0m \u001b[43msoup\u001b[49m\u001b[38;5;241;43m.\u001b[39;49m\u001b[43mfind\u001b[49m\u001b[43m(\u001b[49m\u001b[38;5;124;43m'\u001b[39;49m\u001b[38;5;124;43mbody\u001b[39;49m\u001b[38;5;124;43m'\u001b[39;49m\u001b[43m)\u001b[49m\u001b[38;5;241;43m.\u001b[39;49m\u001b[43mtext\u001b[49m\u001b[38;5;241m.\u001b[39mfind(\u001b[38;5;124m'\u001b[39m\u001b[38;5;124mConsumer Cyclical\u001b[39m\u001b[38;5;124m'\u001b[39m)\n",
      "\u001b[1;31mAttributeError\u001b[0m: 'NoneType' object has no attribute 'text'"
     ]
    }
   ],
   "source": [
    "soup = BeautifulSoup(r.text, 'html.parser')\n",
    "soup.find('body').text.find('Consumer Cyclical')"
   ]
  },
  {
   "cell_type": "code",
   "execution_count": 72,
   "id": "5cbfd8ac",
   "metadata": {},
   "outputs": [
    {
     "data": {
      "text/plain": [
       "500"
      ]
     },
     "execution_count": 72,
     "metadata": {},
     "output_type": "execute_result"
    }
   ],
   "source": [
    "len(r.json())"
   ]
  },
  {
   "cell_type": "code",
   "execution_count": 73,
   "id": "ad766abb",
   "metadata": {},
   "outputs": [
    {
     "data": {
      "text/plain": [
       "{'company_title': '3P Learning Ltd',\n",
       " 'arrow': 'plain-dash',\n",
       " 'change': 0,\n",
       " 'change_class': '',\n",
       " 'change_formatted': '0.00',\n",
       " 'code': '3PL',\n",
       " 'high': 0,\n",
       " 'high_formatted': '$0.000',\n",
       " 'last_price': 1.22,\n",
       " 'last_price_formatted': '$1.22',\n",
       " 'low': 0,\n",
       " 'low_formatted': '$0.000',\n",
       " 'one_year': -2.4,\n",
       " 'one_year_class': 'neg',\n",
       " 'one_year_formatted': '-2.40%',\n",
       " 'percent_change': '0.00',\n",
       " 'percent_change_class': '',\n",
       " 'percent_change_formatted': '0.00%',\n",
       " 'volume': 0,\n",
       " 'volume_formatted': '0',\n",
       " 'market_cap': 334979955.48,\n",
       " 'market_cap_formatted': '$335M'}"
      ]
     },
     "execution_count": 73,
     "metadata": {},
     "output_type": "execute_result"
    }
   ],
   "source": [
    "r.json()[0]['']"
   ]
  },
  {
   "cell_type": "code",
   "execution_count": null,
   "id": "97c880b8",
   "metadata": {},
   "outputs": [],
   "source": []
  },
  {
   "cell_type": "code",
   "execution_count": 75,
   "id": "b27fa4a8",
   "metadata": {},
   "outputs": [
    {
     "data": {
      "text/plain": [
       "200"
      ]
     },
     "execution_count": 75,
     "metadata": {},
     "output_type": "execute_result"
    }
   ],
   "source": [
    "company_data_symbol = 'https://www.marketindex.com.au/api/v1/company-data?symbols[]=bhp.asx&symbols[]=cba.asx&symbols[]=wes.asx'\n",
    "session = HTMLSession()\n",
    "r = session.get(company_data_symbol)\n",
    "r.status_code"
   ]
  },
  {
   "cell_type": "code",
   "execution_count": 84,
   "id": "4ad47f78",
   "metadata": {},
   "outputs": [
    {
     "data": {
      "text/plain": [
       "dict_keys(['id', 'sector_id', 'title', 'path', 'code', 'is_asr', 'last', 'change', 'change_percent', 'open', 'high', 'low', 'previous_close', '52w_low', '52w_high', 'turnover', 'ytd_percent_change', '1yr_percent_change', 'star_stock', 'market_cap', 'volume', 'last_traded', 'status', 'deleted_at', 'created_at', 'updated_at', 'month_volume', 'week_percent_change', 'month_percent_change', 'type', 'vs_asx200', 'vs_sector', 'dividend_per_share', 'gross_per_share', 'dividend_yield', 'gross_yield', 'sector', 'company_sector', 'upcoming_dividends', 'latest_entity_broker_consensus', 'fundamentals', 'formatted'])"
      ]
     },
     "execution_count": 84,
     "metadata": {},
     "output_type": "execute_result"
    }
   ],
   "source": [
    "r.json()[0].keys()"
   ]
  },
  {
   "cell_type": "code",
   "execution_count": null,
   "id": "22af1d17",
   "metadata": {},
   "outputs": [],
   "source": []
  },
  {
   "cell_type": "code",
   "execution_count": null,
   "id": "c95b0926",
   "metadata": {},
   "outputs": [],
   "source": []
  }
 ],
 "metadata": {
  "kernelspec": {
   "display_name": "Python 3 (ipykernel)",
   "language": "python",
   "name": "python3"
  },
  "language_info": {
   "codemirror_mode": {
    "name": "ipython",
    "version": 3
   },
   "file_extension": ".py",
   "mimetype": "text/x-python",
   "name": "python",
   "nbconvert_exporter": "python",
   "pygments_lexer": "ipython3",
   "version": "3.10.6"
  }
 },
 "nbformat": 4,
 "nbformat_minor": 5
}
