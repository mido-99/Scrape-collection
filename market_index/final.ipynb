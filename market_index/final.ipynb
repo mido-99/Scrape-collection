{
 "cells": [
  {
   "cell_type": "code",
   "execution_count": 145,
   "id": "dee99dbd",
   "metadata": {},
   "outputs": [],
   "source": [
    "from requests_html import HTMLSession\n",
    "from bs4 import BeautifulSoup\n",
    "import re\n",
    "import json\n",
    "import jmespath\n",
    "from copy import deepcopy\n",
    "import pandas as pd\n",
    "from time import sleep\n",
    "from random import randint"
   ]
  },
  {
   "cell_type": "code",
   "execution_count": 134,
   "id": "b78f8e53",
   "metadata": {},
   "outputs": [
    {
     "data": {
      "text/plain": [
       "200"
      ]
     },
     "execution_count": 134,
     "metadata": {},
     "output_type": "execute_result"
    }
   ],
   "source": [
    "# Gather companies name, price, and code from main page api endpoint\n",
    "main_api = \"https://www.marketindex.com.au/api/v1/market/indicies/all-ordinaries/CHIA\"\n",
    "session = HTMLSession()\n",
    "response = session.get(main_api)\n",
    "response.status_code"
   ]
  },
  {
   "cell_type": "code",
   "execution_count": 106,
   "id": "e7c82a00",
   "metadata": {},
   "outputs": [
    {
     "data": {
      "text/plain": [
       "500"
      ]
     },
     "execution_count": 106,
     "metadata": {},
     "output_type": "execute_result"
    }
   ],
   "source": [
    "len(response.json())"
   ]
  },
  {
   "cell_type": "code",
   "execution_count": 107,
   "id": "3c39c75a",
   "metadata": {},
   "outputs": [
    {
     "data": {
      "text/plain": [
       "[{'company_title': '3P Learning Ltd',\n",
       "  'arrow': 'plain-dash',\n",
       "  'change': 0,\n",
       "  'change_class': '',\n",
       "  'change_formatted': '0.00',\n",
       "  'code': '3PL',\n",
       "  'high': 0,\n",
       "  'high_formatted': '$0.000',\n",
       "  'last_price': 1.22,\n",
       "  'last_price_formatted': '$1.22',\n",
       "  'low': 0,\n",
       "  'low_formatted': '$0.000',\n",
       "  'one_year': -2.4,\n",
       "  'one_year_class': 'neg',\n",
       "  'one_year_formatted': '-2.40%',\n",
       "  'percent_change': '0.00',\n",
       "  'percent_change_class': '',\n",
       "  'percent_change_formatted': '0.00%',\n",
       "  'volume': 0,\n",
       "  'volume_formatted': '0',\n",
       "  'market_cap': 334979955.48,\n",
       "  'market_cap_formatted': '$335M'},\n",
       " {'company_title': '29METALS Ltd',\n",
       "  'arrow': 'green-up-arrow',\n",
       "  'change': 0.02,\n",
       "  'change_class': 'pos',\n",
       "  'change_formatted': '+0.02',\n",
       "  'code': '29M',\n",
       "  'high': 0.465,\n",
       "  'high_formatted': '$0.465',\n",
       "  'last_price': 0.46,\n",
       "  'last_price_formatted': '$0.460',\n",
       "  'low': 0.45,\n",
       "  'low_formatted': '$0.450',\n",
       "  'one_year': -58.45,\n",
       "  'one_year_class': 'neg',\n",
       "  'one_year_formatted': '-58.45%',\n",
       "  'percent_change': '4.55',\n",
       "  'percent_change_class': 'pos',\n",
       "  'percent_change_formatted': '+4.55%',\n",
       "  'volume': 569772,\n",
       "  'volume_formatted': '569,772',\n",
       "  'market_cap': 322781649.02000004,\n",
       "  'market_cap_formatted': '$322.8M'}]"
      ]
     },
     "execution_count": 107,
     "metadata": {},
     "output_type": "execute_result"
    }
   ],
   "source": [
    "response.json()[:2]"
   ]
  },
  {
   "cell_type": "code",
   "execution_count": 184,
   "id": "3c0b7ccf",
   "metadata": {},
   "outputs": [],
   "source": [
    "# Parse gathered data\n",
    "result = jmespath.search('''\n",
    "    [].{Company: company_title,\n",
    "    Code: code,\n",
    "    Price: last_price\n",
    "    }\n",
    "''', response.json()[:100])\n",
    "\n",
    "final_output = deepcopy(result)"
   ]
  },
  {
   "cell_type": "code",
   "execution_count": null,
   "id": "dad09208",
   "metadata": {},
   "outputs": [],
   "source": [
    "# Get extra data: Sector & Book value\n",
    "for i, comp in enumerate(final_output):\n",
    "    code = comp['Code']\n",
    "    \n",
    "    # Sector\n",
    "    url = f'https://www.marketindex.com.au/asx/{code}'\n",
    "    session = HTMLSession()\n",
    "    r1 = session.get(url)\n",
    "    soup = BeautifulSoup(r1.text, 'html.parser')\n",
    "    try:\n",
    "        sector = soup.find('td', string='Sector').next_sibling.next_sibling.text\n",
    "    except AttributeError:\n",
    "        sector = soup.find('span', class_='px-1').next_sibling.next_sibling.text\n",
    "    except:\n",
    "        sector = ''\n",
    "    comp['Sector'] = sector\n",
    "    \n",
    "    # Book value\n",
    "    financial_url = f'https://www.marketindex.com.au/asx/{code}/financials'\n",
    "    session = HTMLSession()\n",
    "    r2 = session.get(financial_url)\n",
    "    soup = BeautifulSoup(r2.text, 'html.parser')\n",
    "    try:\n",
    "        book_value = float(soup.find('td', string=re.compile(\"Book Value\")).next_sibling.next_sibling.text.strip())\n",
    "    except:\n",
    "        book_value = 0\n",
    "    comp['Book Value'] = book_value\n",
    "    \n",
    "    # DIVIDEND\n",
    "    try:\n",
    "        dividend = float(soup.find('td', string=re.compile(\" DPS \")).next_sibling.next_sibling.text.strip())\n",
    "        if dividend == '-':\n",
    "            dividend = 0\n",
    "    except:\n",
    "        dividend = 0\n",
    "    comp['Dividend'] = dividend / 100\n",
    "    \n",
    "    ##  Custom fields\n",
    "    # Dividend Yield: = Dividend / Price\n",
    "    dividend_yield = dividend / comp['Price']\n",
    "    comp['Dividend Yield'] = f'{round(dividend_yield, 2)}%'\n",
    "    \n",
    "    # +/- Book Value $: = Book Value – Price\n",
    "    book_value_plus_slash_minus = book_value - comp['Price']\n",
    "    comp['+/- Book Value'] = round(book_value_plus_slash_minus, 3)\n",
    "    \n",
    "    # +/- Book Value Percentage %: = +/- Book Value $ / Price*1\n",
    "    book_value_percentage = book_value_plus_slash_minus / comp['Price'] * 100\n",
    "    comp['+/- Book Value Percentage %'] = f'{round(book_value_percentage, 3)}%'\n",
    "    \n",
    "    if i % 3 == 0:\n",
    "        sleep(randint(5, 10))\n",
    "\n",
    "final_output"
   ]
  },
  {
   "cell_type": "code",
   "execution_count": null,
   "id": "4ad29303",
   "metadata": {},
   "outputs": [],
   "source": [
    "pd.DataFrame(final_output).to_csv('market_index.csv', index=False)"
   ]
  },
  {
   "cell_type": "code",
   "execution_count": null,
   "id": "2abbc529",
   "metadata": {},
   "outputs": [],
   "source": []
  },
  {
   "cell_type": "code",
   "execution_count": null,
   "id": "fed6acdd",
   "metadata": {},
   "outputs": [],
   "source": []
  }
 ],
 "metadata": {
  "kernelspec": {
   "display_name": "Python 3 (ipykernel)",
   "language": "python",
   "name": "python3"
  },
  "language_info": {
   "codemirror_mode": {
    "name": "ipython",
    "version": 3
   },
   "file_extension": ".py",
   "mimetype": "text/x-python",
   "name": "python",
   "nbconvert_exporter": "python",
   "pygments_lexer": "ipython3",
   "version": "3.10.6"
  }
 },
 "nbformat": 4,
 "nbformat_minor": 5
}
