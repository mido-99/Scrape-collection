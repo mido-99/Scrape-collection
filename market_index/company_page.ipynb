{
 "cells": [
  {
   "cell_type": "code",
   "execution_count": 36,
   "id": "70cd6c8d",
   "metadata": {},
   "outputs": [],
   "source": [
    "from requests_html import HTMLSession\n",
    "from bs4 import BeautifulSoup\n",
    "import re"
   ]
  },
  {
   "cell_type": "code",
   "execution_count": 3,
   "id": "0012a3ac",
   "metadata": {},
   "outputs": [
    {
     "data": {
      "text/plain": [
       "200"
      ]
     },
     "execution_count": 3,
     "metadata": {},
     "output_type": "execute_result"
    }
   ],
   "source": [
    "url = 'https://www.marketindex.com.au/asx/3pl'\n",
    "session = HTMLSession()\n",
    "r = session.get(url)\n",
    "r.status_code"
   ]
  },
  {
   "cell_type": "code",
   "execution_count": 15,
   "id": "2db50728",
   "metadata": {},
   "outputs": [
    {
     "data": {
      "text/plain": [
       "'3P Learning Ltd (3PL)                      HALTED SUSPENDED   ___:___ · Consumer Cyclical           Add to Watchlist                                           ASX Delayed'"
      ]
     },
     "execution_count": 15,
     "metadata": {},
     "output_type": "execute_result"
    }
   ],
   "source": [
    "soup = BeautifulSoup(r.text, 'html.parser')\n",
    "soup.find('body').text[4065-100:4065+100].strip().replace('\\n', ' ')"
   ]
  },
  {
   "cell_type": "code",
   "execution_count": 22,
   "id": "dac0d663",
   "metadata": {},
   "outputs": [
    {
     "data": {
      "text/plain": [
       "<div class=\"pt-1 font-normal text-base\">\n",
       "<span data-quoteapi=\"code\">___</span>:<span data-quoteapi=\"market\">___</span>\n",
       "<span class=\"px-1\">·</span>\n",
       "<span>Consumer Cyclical</span>\n",
       "</div>"
      ]
     },
     "execution_count": 22,
     "metadata": {},
     "output_type": "execute_result"
    }
   ],
   "source": [
    "soup.find('span', string=\"Consumer Cyclical\").parent"
   ]
  },
  {
   "cell_type": "code",
   "execution_count": 25,
   "id": "a0af1355",
   "metadata": {},
   "outputs": [
    {
     "data": {
      "text/plain": [
       "[<span>Consumer Cyclical</span>, <td class=\"text-right\">Consumer Cyclical</td>]"
      ]
     },
     "execution_count": 25,
     "metadata": {},
     "output_type": "execute_result"
    }
   ],
   "source": [
    "[i.parent for i in soup.find_all(string=\"Consumer Cyclical\")]"
   ]
  },
  {
   "cell_type": "code",
   "execution_count": 28,
   "id": "bb8585d6",
   "metadata": {},
   "outputs": [
    {
     "data": {
      "text/plain": [
       "'Consumer Cyclical'"
      ]
     },
     "execution_count": 28,
     "metadata": {},
     "output_type": "execute_result"
    }
   ],
   "source": [
    "soup.find('td', string='Sector').next_sibling.next_sibling.text"
   ]
  },
  {
   "cell_type": "code",
   "execution_count": 29,
   "id": "f4c6949d",
   "metadata": {},
   "outputs": [
    {
     "data": {
      "text/plain": [
       "'Consumer Cyclical'"
      ]
     },
     "execution_count": 29,
     "metadata": {},
     "output_type": "execute_result"
    }
   ],
   "source": [
    "soup.find('span', class_='px-1').next_sibling.next_sibling.text"
   ]
  },
  {
   "cell_type": "code",
   "execution_count": 30,
   "id": "fd60c12e",
   "metadata": {},
   "outputs": [
    {
     "data": {
      "text/plain": [
       "200"
      ]
     },
     "execution_count": 30,
     "metadata": {},
     "output_type": "execute_result"
    }
   ],
   "source": [
    "financial_url = 'https://www.marketindex.com.au/asx/3pl/financials'\n",
    "r = HTMLSession().get(financial_url)\n",
    "r.status_code"
   ]
  },
  {
   "cell_type": "code",
   "execution_count": 42,
   "id": "11802faa",
   "metadata": {},
   "outputs": [
    {
     "data": {
      "text/plain": [
       "'0.73'"
      ]
     },
     "execution_count": 42,
     "metadata": {},
     "output_type": "execute_result"
    }
   ],
   "source": [
    "soup = BeautifulSoup(r.text, 'html.parser')\n",
    "soup.find('td', string=re.compile(\"Book Value\")).next_sibling.next_sibling.text.strip()"
   ]
  },
  {
   "cell_type": "code",
   "execution_count": null,
   "id": "a2b1b314",
   "metadata": {},
   "outputs": [],
   "source": []
  }
 ],
 "metadata": {
  "kernelspec": {
   "display_name": "Python 3 (ipykernel)",
   "language": "python",
   "name": "python3"
  },
  "language_info": {
   "codemirror_mode": {
    "name": "ipython",
    "version": 3
   },
   "file_extension": ".py",
   "mimetype": "text/x-python",
   "name": "python",
   "nbconvert_exporter": "python",
   "pygments_lexer": "ipython3",
   "version": "3.10.6"
  }
 },
 "nbformat": 4,
 "nbformat_minor": 5
}
