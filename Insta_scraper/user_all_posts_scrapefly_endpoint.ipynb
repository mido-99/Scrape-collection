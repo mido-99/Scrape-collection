{
 "cells": [
  {
   "cell_type": "code",
   "execution_count": 1,
   "id": "b095e07e",
   "metadata": {},
   "outputs": [],
   "source": [
    "import requests, httpx\n",
    "import json\n",
    "from urllib.parse import urlencode, quote, urlsplit, parse_qs, parse_qsl, unquote, unquote_plus\n",
    "from barely_json import parse\n",
    "import jmespath\n",
    "headers = {\n",
    "    'accept': '*/*',\n",
    "    'accept-language': 'en-US,en;q=0.9,ar;q=0.8',\n",
    "    'user-agent': 'Mozilla/5.0 (Windows NT 10.0; Win64; x64) AppleWebKit/537.36 (KHTML, like Gecko) Chrome/124.0.0.0 Safari/537.36',\n",
    "    'x-asbd-id': '129477',\n",
    "    'x-ig-app-id': '936619743392459',\n",
    "    'cookie': '''csrftoken=cpBvgDRGLIQ4j3RgScGvH24w9R6cQffX; ds_user_id=18519728814; ps_n=1; ps_l=1; mid=Zl0FuQALAAHWLneH1O51KnPmZbQO; ig_did=8F185B9B-0018-4D2C-9C8B-5861E8826960; dpr=0.8640000224113464; datr=fid7ZoVfi9JAdPRsF4AUt5H9; shbid=\"19508\\05418519728814\\0541751227322:01f71e1583bc74deb0cf35aadeef14cbf22516af31cc981c85d6a595394c0fc9c9797cbb\"; shbts=\"1719691322\\05418519728814\\0541751227322:01f797a9ebf1355c2fe47a789c2fca5f528433508e5c351bbb67dc69bcb3920b918ea3d3\"; sessionid=18519728814%3A8CptQEBMl6lstb%3A29%3AAYfPHfaU0TD5O2F2otwE2BteTZDIh3lS8N5qbid1QQ; rur=\"RVA\\05418519728814\\0541751409798:01f7914db0d124d7da5a7af3e8dbeca4c2fc69e72380836ba0862459726e5ae2d6f8640f\"; wd=1582x268'''\n",
    "    }"
   ]
  },
  {
   "cell_type": "code",
   "execution_count": 190,
   "id": "1fb2d33f",
   "metadata": {},
   "outputs": [
    {
     "data": {
      "text/plain": [
       "'https://www.instagram.com/graphql/query/?query_hash=e769aa130647d2354c40ea6a439bfc08&variables=%7B%22id%22%3A%201067259270%2C%20%22first%22%3A%2012%7D'"
      ]
     },
     "execution_count": 190,
     "metadata": {},
     "output_type": "execute_result"
    }
   ],
   "source": [
    "def prepare_endpoint(variables):\n",
    "    '''Return an api endpoint for data about the first 12 posts on a user page'''\n",
    "    json_str = json.dumps(vars_dict)\n",
    "    return f\"https://www.instagram.com/graphql/query/?query_hash=e769aa130647d2354c40ea6a439bfc08&variables={quote(json_str)}\"\n",
    "\n",
    "variables = {\n",
    "  \"id\": \"1067259270\",\n",
    "  \"first\": 12,\n",
    "  \"after\": None\n",
    "}\n",
    "prepare_endpoint(variables)"
   ]
  },
  {
   "cell_type": "code",
   "execution_count": 125,
   "id": "4c71929a",
   "metadata": {},
   "outputs": [],
   "source": [
    "def change_variables(url, first=12):\n",
    "    ''' ! Use prepare_endpoint() instead ! \\n\n",
    "    Parse an already existing all-user posts endpoint, allows manipulating it and \n",
    "    returns new endpoint \n",
    "    '''\n",
    "    url_parts = urlparse(url)\n",
    "    query = url_parts.query\n",
    "    variables = parse_qs(query)['variables'][0]\n",
    "    vars_dict = parse(variables)\n",
    "    vars_dict['first'] = first\n",
    "    vars_dict['id'] = 1067259270\n",
    "    json_str = json.dumps(vars_dict)\n",
    "    return f\"https://www.instagram.com/graphql/query/?query_hash=e769aa130647d2354c40ea6a439bfc08&variables={quote(json_str)}\"\n",
    "endpoint = change_variables(endpoint)"
   ]
  },
  {
   "cell_type": "code",
   "execution_count": 126,
   "id": "557abdda",
   "metadata": {},
   "outputs": [
    {
     "data": {
      "text/plain": [
       "200"
      ]
     },
     "execution_count": 126,
     "metadata": {},
     "output_type": "execute_result"
    }
   ],
   "source": [
    "resp = requests.get(endpoint)\n",
    "resp.status_code"
   ]
  },
  {
   "cell_type": "code",
   "execution_count": 185,
   "id": "0b0eae7a",
   "metadata": {},
   "outputs": [
    {
     "data": {
      "text/plain": [
       "{'shortcode': 'C8senjXOVkv',\n",
       " 'comments': ['👏', 'Love her!', 'Fix my business profile!!']}"
      ]
     },
     "execution_count": 185,
     "metadata": {},
     "output_type": "execute_result"
    }
   ],
   "source": [
    "# Testing comments in posts\n",
    "data = resp.json()['data']['user']['edge_owner_to_timeline_media']['edges'][0]['node']\n",
    "jmespath.search('''{\n",
    "    shortcode: shortcode,\n",
    "    comments: edge_media_to_comment.edges[].node[].text,\n",
    "    page\n",
    "    }''', data)"
   ]
  },
  {
   "cell_type": "code",
   "execution_count": 178,
   "id": "b1020bd7",
   "metadata": {},
   "outputs": [
    {
     "data": {
      "text/plain": [
       "dict_keys(['__typename', 'id', 'dimensions', 'display_url', 'display_resources', 'is_video', 'tracking_token', 'edge_media_to_tagged_user', 'accessibility_caption', 'edge_media_to_caption', 'shortcode', 'edge_media_to_comment', 'edge_media_to_sponsor_user', 'comments_disabled', 'taken_at_timestamp', 'edge_media_preview_like', 'gating_info', 'fact_check_overall_rating', 'fact_check_information', 'media_preview', 'owner', 'location', 'viewer_has_liked', 'viewer_has_saved', 'viewer_has_saved_to_collection', 'viewer_in_photo_of_you', 'viewer_can_reshare', 'thumbnail_src', 'thumbnail_resources'])"
      ]
     },
     "execution_count": 178,
     "metadata": {},
     "output_type": "execute_result"
    }
   ],
   "source": [
    "# Check keys for each post\n",
    "resp.json()['data']['user']['edge_owner_to_timeline_media']['edges'][0]['node'].keys()"
   ]
  },
  {
   "cell_type": "code",
   "execution_count": 180,
   "id": "f2c3bcc5",
   "metadata": {},
   "outputs": [
    {
     "data": {
      "text/plain": [
       "20"
      ]
     },
     "execution_count": 180,
     "metadata": {},
     "output_type": "execute_result"
    }
   ],
   "source": [
    "# Check if changing returned posts number will break the api (seems like it's working)\n",
    "len(resp.json()['data']['user']['edge_owner_to_timeline_media']['edges'])"
   ]
  }
 ],
 "metadata": {
  "kernelspec": {
   "display_name": "Python 3 (ipykernel)",
   "language": "python",
   "name": "python3"
  },
  "language_info": {
   "codemirror_mode": {
    "name": "ipython",
    "version": 3
   },
   "file_extension": ".py",
   "mimetype": "text/x-python",
   "name": "python",
   "nbconvert_exporter": "python",
   "pygments_lexer": "ipython3",
   "version": "3.10.6"
  }
 },
 "nbformat": 4,
 "nbformat_minor": 5
}
