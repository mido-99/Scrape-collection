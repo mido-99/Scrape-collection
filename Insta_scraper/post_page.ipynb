{
 "cells": [
  {
   "cell_type": "code",
   "execution_count": 5,
   "id": "50315ccb",
   "metadata": {},
   "outputs": [],
   "source": [
    "import requests\n",
    "\n",
    "\n",
    "headers = {\n",
    "    'accept': '*/*',\n",
    "    'accept-language': 'en-US,en;q=0.9,ar;q=0.8',\n",
    "    'cache-control': 'no-cache',\n",
    "    'content-type': 'application/x-www-form-urlencoded',\n",
    "    # 'cookie': 'ig_did=877F4B80-E908-44E1-BA31-7BC2AC443CE4; datr=hm1LZF-vJg27J4YDu9vs8_EZ; mid=ZEttiAALAAHjonDxTvkxFWEBH1C6; csrftoken=cpBvgDRGLIQ4j3RgScGvH24w9R6cQffX; ds_user_id=18519728814; ps_n=1; ps_l=1; sessionid=18519728814%3A8CptQEBMl6lstb%3A29%3AAYfk08qpy-w0fFRo7ZawDLvMvJ550WnFo3_pl_uPcQ; dpr=1.350000023841858; shbid=\"19508\\\\05418519728814\\\\0541746813155:01f7b1b9edbd24b1266f534931e9210cdb8e8e32fd6eff2a5264ab55cef9c4c98b64200e\"; shbts=\"1715277155\\\\05418519728814\\\\0541746813155:01f7ddb8da67721839b724ab68e790c80bb746a4c69c88d33b8e7eb29737daf9fb3e7957\"; rur=\"RVA\\\\05418519728814\\\\0541746906398:01f716ce6afc26dfc0f0467b46cce31440419156c8717dc7ef962adaa567428bda5147c5\"',\n",
    "    'origin': 'https://www.instagram.com',\n",
    "    'pragma': 'no-cache',\n",
    "    'priority': 'u=1, i',\n",
    "    'referer': 'https://www.instagram.com/leomessi/?hl=en',\n",
    "    'sec-ch-prefers-color-scheme': 'dark',\n",
    "    'sec-ch-ua': '\"Chromium\";v=\"124\", \"Google Chrome\";v=\"124\", \"Not-A.Brand\";v=\"99\"',\n",
    "    'sec-ch-ua-full-version-list': '\"Chromium\";v=\"124.0.6367.156\", \"Google Chrome\";v=\"124.0.6367.156\", \"Not-A.Brand\";v=\"99.0.0.0\"',\n",
    "    'sec-ch-ua-mobile': '?0',\n",
    "    'sec-ch-ua-model': '\"\"',\n",
    "    'sec-ch-ua-platform': '\"Windows\"',\n",
    "    'sec-ch-ua-platform-version': '\"10.0.0\"',\n",
    "    'sec-fetch-dest': 'empty',\n",
    "    'sec-fetch-mode': 'cors',\n",
    "    'sec-fetch-site': 'same-origin',\n",
    "    'user-agent': 'Mozilla/5.0 (Windows NT 10.0; Win64; x64) AppleWebKit/537.36 (KHTML, like Gecko) Chrome/124.0.0.0 Safari/537.36',\n",
    "    'x-asbd-id': '129477',\n",
    "    'x-csrftoken': 'cpBvgDRGLIQ4j3RgScGvH24w9R6cQffX',\n",
    "    'x-fb-friendly-name': 'PolarisProfilePostsQuery',\n",
    "    'x-fb-lsd': 'u27ag6LGULpr4qdV-zWuC-',\n",
    "    'x-ig-app-id': '936619743392459',\n",
    "}\n",
    "\n",
    "data = {\n",
    "    'av': '17841418504424966',\n",
    "    'hl': 'en',\n",
    "    '__d': 'www',\n",
    "    '__user': '0',\n",
    "    '__a': '1',\n",
    "    '__req': '4',\n",
    "    '__hs': '19853.HYP:instagram_web_pkg.2.1..0.1',\n",
    "    'dpr': '1',\n",
    "    '__ccg': 'UNKNOWN',\n",
    "    '__rev': '1013427802',\n",
    "    '__s': '1985qz:f7fy79:1fo9xv',\n",
    "    '__hsi': '7367474080958724014',\n",
    "    '__dyn': '7xeUjG1mxu1syUbFp40NonwgU7SbzEdF8aUco2qwJxS0k24o0B-q1ew65xO0FE2awt81s8hwGwQwoEcE7O2l0Fwqo31w9O0H8jwae4UaEW2G1NwwwNwKwHw8Xxm16wUwtEvw4JwJCwLyES1Twoob82cwMwrUdUbGwmk0KU6O1FwlE6PhA6bxy4VUK6V8aUC58rwYCz8Kfw',\n",
    "    '__csr': 'scghhSyi8lvjNlspcFlBcKhqiAlnAQAlqjH-u_jC8Ty9K9DxiFeUyWAKFHVeAmiiXYECi-u4oR4WAAF3GWgOK8yFfFAhpFpoGbABz98CmcCmeRLKh7GqHG9V8qzFUmAggKEyjBUgWwTw057Xg0Wez0c60l67EghE3780348zsErK18xazatSmOwLx6m2vwr8G2e0cXwWwdl07cWUdjat0_Bw4qG0-iw2740LWwadBDgGq01_Mw186',\n",
    "    '__comet_req': '7',\n",
    "    'fb_dtsg': 'NAcP4cgCjxlWUlTORxWmNFn4ofjr2n7Qga_nMXJQOpjiwxFQhu9Amig:17853667720085245:1683203180',\n",
    "    'jazoest': '26554',\n",
    "    'lsd': 'u27ag6LGULpr4qdV-zWuC-',\n",
    "    '__spin_r': '1013427802',\n",
    "    '__spin_b': 'trunk',\n",
    "    '__spin_t': '1715373732',\n",
    "    'fb_api_caller_class': 'RelayModern',\n",
    "    'fb_api_req_friendly_name': 'PolarisProfilePostsQuery',\n",
    "    'variables': '{\"data\":{\"count\":12,\"include_relationship_info\":true,\"latest_besties_reel_media\":true,\"latest_reel_media\":true},\"username\":\"leomessi\",\"__relay_internal__pv__PolarisShareMenurelayprovider\":false}',\n",
    "    'server_timestamps': 'true',\n",
    "    'doc_id': '7345420252173688',\n",
    "}\n",
    "\n",
    "response = requests.post('https://www.instagram.com/api/graphql', headers=headers, data=data)"
   ]
  },
  {
   "cell_type": "code",
   "execution_count": 6,
   "id": "98b6f73e",
   "metadata": {},
   "outputs": [
    {
     "data": {
      "text/plain": [
       "200"
      ]
     },
     "execution_count": 6,
     "metadata": {},
     "output_type": "execute_result"
    }
   ],
   "source": [
    "response.status_code"
   ]
  },
  {
   "cell_type": "code",
   "execution_count": 8,
   "id": "80c59cfe",
   "metadata": {},
   "outputs": [
    {
     "data": {
      "text/plain": [
       "'for (;;);{\"__ar\":1,\"error\":1357054,\"errorSummary\":\"Your Request Couldn\\'t be Processed\",\"errorDescription\":\"There was a problem with this request. We\\'re working on getting it fixed as soon as we can.\",\"isNotCritical\":1,\"payload\":null,\"lid\":\"7367478211708865888\"}'"
      ]
     },
     "execution_count": 8,
     "metadata": {},
     "output_type": "execute_result"
    }
   ],
   "source": [
    "response.text"
   ]
  }
 ],
 "metadata": {
  "kernelspec": {
   "display_name": "Python 3 (ipykernel)",
   "language": "python",
   "name": "python3"
  },
  "language_info": {
   "codemirror_mode": {
    "name": "ipython",
    "version": 3
   },
   "file_extension": ".py",
   "mimetype": "text/x-python",
   "name": "python",
   "nbconvert_exporter": "python",
   "pygments_lexer": "ipython3",
   "version": "3.10.6"
  }
 },
 "nbformat": 4,
 "nbformat_minor": 5
}
