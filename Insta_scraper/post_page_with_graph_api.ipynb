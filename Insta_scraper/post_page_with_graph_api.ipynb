{
 "cells": [
  {
   "cell_type": "code",
   "execution_count": 32,
   "id": "2bf010eb",
   "metadata": {},
   "outputs": [],
   "source": [
    "from urllib.parse import quote\n",
    "import json\n",
    "import requests"
   ]
  },
  {
   "cell_type": "code",
   "execution_count": 15,
   "id": "fc046a89",
   "metadata": {},
   "outputs": [],
   "source": [
    "graph_api = 'https://www.instagram.com/graphql/query/?query_hash=<>&variables=<>'\n",
    "post_graph_api = 'https://www.instagram.com/graphql/query/?query_hash=b3055c01b4b222b8a47dc12b090e4e64&variables='\n"
   ]
  },
  {
   "cell_type": "code",
   "execution_count": 16,
   "id": "51134af4",
   "metadata": {},
   "outputs": [],
   "source": [
    "post_url = \"https://www.instagram.com/p/C6kj-5WC1yz/?hl=en&img_index=1\"\n",
    "\n",
    "def post_id(url):\n",
    "    shortcode = url.split('p/')[-1].split('/')[0]\n",
    "    return shortcode\n",
    "\n",
    "shortcode = post_id(post_url)"
   ]
  },
  {
   "cell_type": "code",
   "execution_count": 17,
   "id": "99eb7675",
   "metadata": {},
   "outputs": [],
   "source": [
    "variables = {\n",
    "        \"shortcode\": shortcode,\n",
    "        \"child_comment_count\": 20,\n",
    "        \"fetch_comment_count\": 100,\n",
    "        \"parent_comment_count\": 24,\n",
    "        \"has_threaded_comments\": True,\n",
    "    }\n"
   ]
  },
  {
   "cell_type": "code",
   "execution_count": 18,
   "id": "29b82487",
   "metadata": {},
   "outputs": [
    {
     "data": {
      "text/plain": [
       "{'shortcode': 'C6kj-5WC1yz',\n",
       " 'child_comment_count': 20,\n",
       " 'fetch_comment_count': 100,\n",
       " 'parent_comment_count': 24,\n",
       " 'has_threaded_comments': True}"
      ]
     },
     "execution_count": 18,
     "metadata": {},
     "output_type": "execute_result"
    }
   ],
   "source": [
    "variables"
   ]
  },
  {
   "cell_type": "code",
   "execution_count": 29,
   "id": "37c8241b",
   "metadata": {},
   "outputs": [],
   "source": [
    "from_quote = quote(json.dumps(variables))"
   ]
  },
  {
   "cell_type": "code",
   "execution_count": 36,
   "id": "e2b2d627",
   "metadata": {},
   "outputs": [],
   "source": [
    "result = requests.get(\n",
    "        url=post_graph_api + from_quote,\n",
    "        headers={\"x-ig-app-id\": \"936619743392459\"},\n",
    "    )\n"
   ]
  },
  {
   "cell_type": "code",
   "execution_count": 69,
   "id": "a0194015",
   "metadata": {},
   "outputs": [
    {
     "data": {
      "text/plain": [
       "['edge_media_to_tagged_user',\n",
       " 'edge_media_to_caption',\n",
       " 'edge_media_to_parent_comment',\n",
       " 'edge_media_to_hoisted_comment',\n",
       " 'edge_media_preview_comment',\n",
       " 'edge_media_preview_like',\n",
       " 'edge_media_to_sponsor_user',\n",
       " 'edge_web_media_to_related_media',\n",
       " 'edge_sidecar_to_children',\n",
       " 'edge_related_profiles']"
      ]
     },
     "execution_count": 69,
     "metadata": {},
     "output_type": "execute_result"
    }
   ],
   "source": [
    "[i for i in result.json()['data']['shortcode_media'].keys() if 'edge' in i]"
   ]
  },
  {
   "cell_type": "code",
   "execution_count": 65,
   "id": "114566b6",
   "metadata": {},
   "outputs": [
    {
     "data": {
      "text/plain": [
       "dict_keys(['edges'])"
      ]
     },
     "execution_count": 65,
     "metadata": {},
     "output_type": "execute_result"
    }
   ],
   "source": [
    "result.json()['data']['shortcode_media']['edge_media_to_tagged_user'].keys()"
   ]
  },
  {
   "cell_type": "code",
   "execution_count": 68,
   "id": "ee168788",
   "metadata": {},
   "outputs": [
    {
     "name": "stdout",
     "output_type": "stream",
     "text": [
      "0\n",
      "1\n",
      "6\n",
      "0\n",
      "2\n",
      "0\n",
      "0\n",
      "0\n",
      "9\n",
      "80\n"
     ]
    }
   ],
   "source": [
    "for i in edges:\n",
    "    print(len(result.json()['data']['shortcode_media'][i]['edges']))"
   ]
  },
  {
   "cell_type": "code",
   "execution_count": 59,
   "id": "24beb567",
   "metadata": {},
   "outputs": [
    {
     "data": {
      "text/plain": [
       "[{'node': {'id': '18030101375052940',\n",
       "   'text': '🔥❤️❤️❤️',\n",
       "   'created_at': 1715460788,\n",
       "   'did_report_as_spam': False,\n",
       "   'owner': {'id': '66389093804',\n",
       "    'is_verified': False,\n",
       "    'profile_pic_url': 'https://scontent-lga3-1.cdninstagram.com/v/t51.2885-19/44884218_345707102882519_2446069589734326272_n.jpg?_nc_ht=scontent-lga3-1.cdninstagram.com&_nc_cat=1&_nc_ohc=yj4RSkJAtTwQ7kNvgHzs142&edm=AB11_MABAAAA&ccb=7-5&ig_cache_key=YW5vbnltb3VzX3Byb2ZpbGVfcGlj.2-ccb7-5&oh=00_AYDD_rjs9Ah5s5ZVWBdhlj_pbNEmTykC4KTTbmvGSTc4nQ&oe=6645A44F&_nc_sid=dc5e7f',\n",
       "    'username': 'son.o54'},\n",
       "   'viewer_has_liked': False,\n",
       "   'edge_liked_by': {'count': 0},\n",
       "   'is_restricted_pending': False,\n",
       "   'edge_threaded_comments': {'count': 0,\n",
       "    'page_info': {'has_next_page': False, 'end_cursor': None},\n",
       "    'edges': []}}},\n",
       " {'node': {'id': '17998513868348242',\n",
       "   'text': 'The Goat',\n",
       "   'created_at': 1715460780,\n",
       "   'did_report_as_spam': False,\n",
       "   'owner': {'id': '53669685750',\n",
       "    'is_verified': False,\n",
       "    'profile_pic_url': 'https://instagram.fcai20-1.fna.fbcdn.net/v/t51.2885-19/439312416_1709208022947670_7643065367664579731_n.jpg?stp=dst-jpg_s150x150&_nc_ht=instagram.fcai20-1.fna.fbcdn.net&_nc_cat=110&_nc_ohc=dPtRW4fvqqAQ7kNvgHsw-md&edm=AP_V10EBAAAA&ccb=7-5&oh=00_AYDMFex5sr18whCAK-OV77zjFXFdu8bmK6vNmWMu3id42g&oe=6645AB8A&_nc_sid=2999b8',\n",
       "    'username': 'rlk.dv.fxp'},\n",
       "   'viewer_has_liked': False,\n",
       "   'edge_liked_by': {'count': 0},\n",
       "   'is_restricted_pending': False,\n",
       "   'edge_threaded_comments': {'count': 0,\n",
       "    'page_info': {'has_next_page': False, 'end_cursor': None},\n",
       "    'edges': []}}},\n",
       " {'node': {'id': '17945337881702962',\n",
       "   'text': 'https://www.instagram.com/reel/C6131tAuaca/?utm_source=ig_web_copy_link&igsh=MzRlODBiNWFlZA==\\n\\nRuta Ovni\\n\\nFred Morsh\\n\\nRuta ovni\\nIgnorando la presencia de supuestos extraterrestres hostiles, Fred intenta hacerles frente en la Base Alienígena de la montaña sagrada para mineros de la Chapada Diamantina. Ahora, Fred debe decidir si ignorar las alertas de peligro del famoso guía local, Chiquinho de Igatu, y los consejos del ufólogo Paulo Gusmão.',\n",
       "   'created_at': 1715460739,\n",
       "   'did_report_as_spam': False,\n",
       "   'owner': {'id': '53521736975',\n",
       "    'is_verified': False,\n",
       "    'profile_pic_url': 'https://instagram.fcai20-4.fna.fbcdn.net/v/t51.2885-19/280235495_405302347858303_2705581893257907144_n.jpg?_nc_ht=instagram.fcai20-4.fna.fbcdn.net&_nc_cat=107&_nc_ohc=53fU3tPEBgIQ7kNvgGckrel&edm=AP_V10EBAAAA&ccb=7-5&oh=00_AYC3n6zWtrAV_uLvX6KiM8MjC7-CnXD8qMslIUniEdIZAw&oe=6645C1C2&_nc_sid=2999b8',\n",
       "    'username': 'comandogalactico1971'},\n",
       "   'viewer_has_liked': False,\n",
       "   'edge_liked_by': {'count': 0},\n",
       "   'is_restricted_pending': False,\n",
       "   'edge_threaded_comments': {'count': 0,\n",
       "    'page_info': {'has_next_page': False, 'end_cursor': None},\n",
       "    'edges': []}}},\n",
       " {'node': {'id': '18019036841191432',\n",
       "   'text': '😍',\n",
       "   'created_at': 1715460361,\n",
       "   'did_report_as_spam': False,\n",
       "   'owner': {'id': '65367481274',\n",
       "    'is_verified': False,\n",
       "    'profile_pic_url': 'https://instagram.fcai20-1.fna.fbcdn.net/v/t51.2885-19/431744050_761722309227310_1079794829339448999_n.jpg?stp=dst-jpg_s150x150&_nc_ht=instagram.fcai20-1.fna.fbcdn.net&_nc_cat=110&_nc_ohc=auNj-_8TvqAQ7kNvgEmV0Ly&edm=AP_V10EBAAAA&ccb=7-5&oh=00_AYCS66otm-__o9dhk2kykn-of3CsOM6V0wT9xLxifSFkVA&oe=6645B7FD&_nc_sid=2999b8',\n",
       "    'username': 'ahmedrashed6704'},\n",
       "   'viewer_has_liked': False,\n",
       "   'edge_liked_by': {'count': 0},\n",
       "   'is_restricted_pending': False,\n",
       "   'edge_threaded_comments': {'count': 0,\n",
       "    'page_info': {'has_next_page': False, 'end_cursor': None},\n",
       "    'edges': []}}},\n",
       " {'node': {'id': '18435309694053773',\n",
       "   'text': '🔥🔥🔥🔥🔥🔥🔥',\n",
       "   'created_at': 1715460358,\n",
       "   'did_report_as_spam': False,\n",
       "   'owner': {'id': '65367481274',\n",
       "    'is_verified': False,\n",
       "    'profile_pic_url': 'https://instagram.fcai20-1.fna.fbcdn.net/v/t51.2885-19/431744050_761722309227310_1079794829339448999_n.jpg?stp=dst-jpg_s150x150&_nc_ht=instagram.fcai20-1.fna.fbcdn.net&_nc_cat=110&_nc_ohc=auNj-_8TvqAQ7kNvgEmV0Ly&edm=AP_V10EBAAAA&ccb=7-5&oh=00_AYCS66otm-__o9dhk2kykn-of3CsOM6V0wT9xLxifSFkVA&oe=6645B7FD&_nc_sid=2999b8',\n",
       "    'username': 'ahmedrashed6704'},\n",
       "   'viewer_has_liked': False,\n",
       "   'edge_liked_by': {'count': 0},\n",
       "   'is_restricted_pending': False,\n",
       "   'edge_threaded_comments': {'count': 0,\n",
       "    'page_info': {'has_next_page': False, 'end_cursor': None},\n",
       "    'edges': []}}},\n",
       " {'node': {'id': '17917194458914939',\n",
       "   'text': 'Leo Messi Barcelona needs you❤️🇦🇷',\n",
       "   'created_at': 1715458807,\n",
       "   'did_report_as_spam': False,\n",
       "   'owner': {'id': '60523378656',\n",
       "    'is_verified': False,\n",
       "    'profile_pic_url': 'https://instagram.fcai20-2.fna.fbcdn.net/v/t51.2885-19/434360318_795543169291204_1309012039880272448_n.jpg?stp=dst-jpg_s150x150&_nc_ht=instagram.fcai20-2.fna.fbcdn.net&_nc_cat=104&_nc_ohc=_Qq1tO3GtWkQ7kNvgGMzsED&edm=AP_V10EBAAAA&ccb=7-5&oh=00_AYCh5tAbmu6ap-cvVOFa1NAPpRuD5fE3nIc2ZNCTwJ_4ug&oe=6645C1D0&_nc_sid=2999b8',\n",
       "    'username': 'alre_1995'},\n",
       "   'viewer_has_liked': False,\n",
       "   'edge_liked_by': {'count': 0},\n",
       "   'is_restricted_pending': False,\n",
       "   'edge_threaded_comments': {'count': 0,\n",
       "    'page_info': {'has_next_page': False, 'end_cursor': None},\n",
       "    'edges': []}}}]"
      ]
     },
     "execution_count": 59,
     "metadata": {},
     "output_type": "execute_result"
    }
   ],
   "source": [
    "result.json()['data']['shortcode_media']['edge_media_to_parent_comment']['edges']"
   ]
  },
  {
   "cell_type": "code",
   "execution_count": null,
   "id": "dafbf11e",
   "metadata": {},
   "outputs": [],
   "source": []
  },
  {
   "cell_type": "code",
   "execution_count": 72,
   "id": "3524cffc",
   "metadata": {},
   "outputs": [
    {
     "data": {
      "text/plain": [
       "dict_keys(['__typename', 'id', 'shortcode', 'dimensions', 'gating_info', 'fact_check_overall_rating', 'fact_check_information', 'sensitivity_friction_info', 'sharing_friction_info', 'media_overlay_info', 'media_preview', 'display_url', 'display_resources', 'is_video', 'tracking_token', 'upcoming_event', 'edge_media_to_tagged_user', 'edge_media_to_caption', 'can_see_insights_as_brand', 'caption_is_edited', 'has_ranked_comments', 'like_and_view_counts_disabled', 'edge_media_to_parent_comment', 'edge_media_to_hoisted_comment', 'edge_media_preview_comment', 'comments_disabled', 'commenting_disabled_for_viewer', 'taken_at_timestamp', 'edge_media_preview_like', 'edge_media_to_sponsor_user', 'is_affiliate', 'is_paid_partnership', 'location', 'nft_asset_info', 'viewer_has_liked', 'viewer_has_saved', 'viewer_has_saved_to_collection', 'viewer_in_photo_of_you', 'viewer_can_reshare', 'owner', 'is_ad', 'edge_web_media_to_related_media', 'coauthor_producers', 'pinned_for_users', 'edge_sidecar_to_children', 'edge_related_profiles'])"
      ]
     },
     "execution_count": 72,
     "metadata": {},
     "output_type": "execute_result"
    }
   ],
   "source": [
    "result.json()['data']['shortcode_media'].keys()"
   ]
  },
  {
   "cell_type": "code",
   "execution_count": null,
   "id": "43050f37",
   "metadata": {},
   "outputs": [],
   "source": []
  },
  {
   "cell_type": "code",
   "execution_count": null,
   "id": "71b1238f",
   "metadata": {},
   "outputs": [],
   "source": []
  },
  {
   "cell_type": "code",
   "execution_count": null,
   "id": "b00e1073",
   "metadata": {},
   "outputs": [],
   "source": []
  }
 ],
 "metadata": {
  "kernelspec": {
   "display_name": ".venv",
   "language": "python",
   "name": "python3"
  },
  "language_info": {
   "codemirror_mode": {
    "name": "ipython",
    "version": 3
   },
   "file_extension": ".py",
   "mimetype": "text/x-python",
   "name": "python",
   "nbconvert_exporter": "python",
   "pygments_lexer": "ipython3",
   "version": "3.10.6 (tags/v3.10.6:9c7b4bd, Aug  1 2022, 21:53:49) [MSC v.1932 64 bit (AMD64)]"
  },
  "vscode": {
   "interpreter": {
    "hash": "c47713f048d21d5cd3173b49c4e59732a031c94971fd62355af6e30b6086650b"
   }
  }
 },
 "nbformat": 4,
 "nbformat_minor": 5
}
