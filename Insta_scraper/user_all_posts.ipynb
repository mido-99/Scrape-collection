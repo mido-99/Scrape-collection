{
 "cells": [
  {
   "cell_type": "code",
   "execution_count": 186,
   "id": "a37c33c1",
   "metadata": {},
   "outputs": [],
   "source": [
    "import requests, httpx\n",
    "import json\n",
    "from urllib.parse import urlencode, quote, urlsplit, parse_qs, parse_qsl, unquote, unquote_plus\n",
    "from barely_json import parse\n",
    "import jmespath\n",
    "headers = {\n",
    "    'accept': '*/*',\n",
    "    'accept-language': 'en-US,en;q=0.9,ar;q=0.8',\n",
    "    'user-agent': 'Mozilla/5.0 (Windows NT 10.0; Win64; x64) AppleWebKit/537.36 (KHTML, like Gecko) Chrome/124.0.0.0 Safari/537.36',\n",
    "    'x-asbd-id': '129477',\n",
    "    'x-ig-app-id': '936619743392459',\n",
    "    'cookie': '''csrftoken=cpBvgDRGLIQ4j3RgScGvH24w9R6cQffX; ds_user_id=18519728814; ps_n=1; ps_l=1; mid=Zl0FuQALAAHWLneH1O51KnPmZbQO; ig_did=8F185B9B-0018-4D2C-9C8B-5861E8826960; dpr=0.8640000224113464; datr=fid7ZoVfi9JAdPRsF4AUt5H9; shbid=\"19508\\05418519728814\\0541751227322:01f71e1583bc74deb0cf35aadeef14cbf22516af31cc981c85d6a595394c0fc9c9797cbb\"; shbts=\"1719691322\\05418519728814\\0541751227322:01f797a9ebf1355c2fe47a789c2fca5f528433508e5c351bbb67dc69bcb3920b918ea3d3\"; sessionid=18519728814%3A8CptQEBMl6lstb%3A29%3AAYfPHfaU0TD5O2F2otwE2BteTZDIh3lS8N5qbid1QQ; rur=\"RVA\\05418519728814\\0541751409798:01f7914db0d124d7da5a7af3e8dbeca4c2fc69e72380836ba0862459726e5ae2d6f8640f\"; wd=1582x268'''\n",
    "    }"
   ]
  },
  {
   "cell_type": "code",
   "execution_count": 190,
   "id": "bd11dc38",
   "metadata": {},
   "outputs": [
    {
     "data": {
      "text/plain": [
       "'https://www.instagram.com/graphql/query/?query_hash=e769aa130647d2354c40ea6a439bfc08&variables=%7B%22id%22%3A%201067259270%2C%20%22first%22%3A%2012%7D'"
      ]
     },
     "execution_count": 190,
     "metadata": {},
     "output_type": "execute_result"
    }
   ],
   "source": [
    "def prepare_endpoint(variables):\n",
    "    '''Return an api endpoint for data about the first 12 posts on a user page'''\n",
    "    json_str = json.dumps(vars_dict)\n",
    "    return f\"https://www.instagram.com/graphql/query/?query_hash=e769aa130647d2354c40ea6a439bfc08&variables={quote(json_str)}\"\n",
    "\n",
    "variables = {\n",
    "  \"id\": \"1067259270\",\n",
    "  \"first\": 12,\n",
    "  \"after\": None\n",
    "}\n",
    "prepare_endpoint(variables)"
   ]
  },
  {
   "cell_type": "code",
   "execution_count": 125,
   "id": "75cda799",
   "metadata": {},
   "outputs": [],
   "source": [
    "def change_variables(url, first=12):\n",
    "    ''' ! Use prepare_endpoint() instead ! \\n\n",
    "    Parse an already existing all-user posts endpoint, allows manipulating it and \n",
    "    returns new endpoint \n",
    "    '''\n",
    "    url_parts = urlparse(url)\n",
    "    query = url_parts.query\n",
    "    variables = parse_qs(query)['variables'][0]\n",
    "    vars_dict = parse(variables)\n",
    "    vars_dict['first'] = first\n",
    "    vars_dict['id'] = 1067259270\n",
    "    json_str = json.dumps(vars_dict)\n",
    "    return f\"https://www.instagram.com/graphql/query/?query_hash=e769aa130647d2354c40ea6a439bfc08&variables={quote(json_str)}\"\n",
    "endpoint = change_variables(endpoint)"
   ]
  },
  {
   "cell_type": "code",
   "execution_count": 126,
   "id": "ab6dbd80",
   "metadata": {},
   "outputs": [
    {
     "data": {
      "text/plain": [
       "200"
      ]
     },
     "execution_count": 126,
     "metadata": {},
     "output_type": "execute_result"
    }
   ],
   "source": [
    "resp = requests.get(endpoint)\n",
    "resp.status_code"
   ]
  },
  {
   "cell_type": "code",
   "execution_count": 185,
   "id": "b65eedc9",
   "metadata": {},
   "outputs": [
    {
     "data": {
      "text/plain": [
       "{'shortcode': 'C8senjXOVkv',\n",
       " 'comments': ['👏', 'Love her!', 'Fix my business profile!!']}"
      ]
     },
     "execution_count": 185,
     "metadata": {},
     "output_type": "execute_result"
    }
   ],
   "source": [
    "# Testing comments in posts\n",
    "data = resp.json()['data']['user']['edge_owner_to_timeline_media']['edges'][0]['node']\n",
    "jmespath.search('''{\n",
    "    shortcode: shortcode,\n",
    "    comments: edge_media_to_comment.edges[].node[].text,\n",
    "    page\n",
    "    }''', data)"
   ]
  },
  {
   "cell_type": "code",
   "execution_count": 178,
   "id": "a1cac506",
   "metadata": {},
   "outputs": [
    {
     "data": {
      "text/plain": [
       "dict_keys(['__typename', 'id', 'dimensions', 'display_url', 'display_resources', 'is_video', 'tracking_token', 'edge_media_to_tagged_user', 'accessibility_caption', 'edge_media_to_caption', 'shortcode', 'edge_media_to_comment', 'edge_media_to_sponsor_user', 'comments_disabled', 'taken_at_timestamp', 'edge_media_preview_like', 'gating_info', 'fact_check_overall_rating', 'fact_check_information', 'media_preview', 'owner', 'location', 'viewer_has_liked', 'viewer_has_saved', 'viewer_has_saved_to_collection', 'viewer_in_photo_of_you', 'viewer_can_reshare', 'thumbnail_src', 'thumbnail_resources'])"
      ]
     },
     "execution_count": 178,
     "metadata": {},
     "output_type": "execute_result"
    }
   ],
   "source": [
    "# Check keys for each post\n",
    "resp.json()['data']['user']['edge_owner_to_timeline_media']['edges'][0]['node'].keys()"
   ]
  },
  {
   "cell_type": "code",
   "execution_count": 180,
   "id": "aa7239b0",
   "metadata": {},
   "outputs": [
    {
     "data": {
      "text/plain": [
       "20"
      ]
     },
     "execution_count": 180,
     "metadata": {},
     "output_type": "execute_result"
    }
   ],
   "source": [
    "# Check if changing returned posts number will break the api (seems like it's working)\n",
    "len(resp.json()['data']['user']['edge_owner_to_timeline_media']['edges'])"
   ]
  },
  {
   "cell_type": "code",
   "execution_count": 189,
   "id": "e49a22ac",
   "metadata": {},
   "outputs": [
    {
     "data": {
      "text/plain": [
       "{'has_next_page': True,\n",
       " 'end_cursor': 'QVFENlBNVWZnQ3k2ZlNjQzdrUG5ubFI4cVhuOGJEYWxIVWpNUDhyTC1keFFDcWlCQU4yZmZuVlk2OWR3Uk9WR2FPN1pCbHJkbkRmV2ViU3hzTzVscnZLdg=='}"
      ]
     },
     "execution_count": 189,
     "metadata": {},
     "output_type": "execute_result"
    }
   ],
   "source": [
    "# Checking what's end_cursor, used for page offset\n",
    "posts = resp.json()['data']['user']['edge_owner_to_timeline_media']\n",
    "jmespath.search('''\n",
    "    page_info\n",
    "    ''', posts)"
   ]
  },
  {
   "cell_type": "code",
   "execution_count": null,
   "id": "31c9d748",
   "metadata": {},
   "outputs": [],
   "source": []
  },
  {
   "cell_type": "code",
   "execution_count": null,
   "id": "77a04ae2",
   "metadata": {},
   "outputs": [],
   "source": [
    "# Currently used API from curl to py; To be checked for differences...\n",
    "import requests\n",
    "\n",
    "cookies = {\n",
    "    'csrftoken': 'cpBvgDRGLIQ4j3RgScGvH24w9R6cQffX',\n",
    "    'ds_user_id': '18519728814',\n",
    "    'ps_n': '1',\n",
    "    'ps_l': '1',\n",
    "    'mid': 'Zl0FuQALAAHWLneH1O51KnPmZbQO',\n",
    "    'ig_did': '8F185B9B-0018-4D2C-9C8B-5861E8826960',\n",
    "    'dpr': '0.8640000224113464',\n",
    "    'datr': 'fid7ZoVfi9JAdPRsF4AUt5H9',\n",
    "    'shbid': '\"19508\\\\05418519728814\\\\0541751540486:01f76e5af287c0ac4b0712ad9a199516ec3a212eab65151b15d328a48527f468f5d48c84\"',\n",
    "    'shbts': '\"1720004486\\\\05418519728814\\\\0541751540486:01f756041ca2b44d4b4b77389ca6928566e32f7d821f7125f673e2985202b37c288ae188\"',\n",
    "    'sessionid': '18519728814%3A8CptQEBMl6lstb%3A29%3AAYdUd--zj1AvDDlxLONWLEyqmoeFwK0gn-IUlZcipcg',\n",
    "    'rur': '\"RVA\\\\05418519728814\\\\0541751543175:01f7df8e0d96f9c638821e7792fad32ba1a767e408602bb0dda7dcba5aecf9adb03b956c\"',\n",
    "    'wd': '1582x229',\n",
    "}\n",
    "\n",
    "headers = {\n",
    "    'accept': '*/*',\n",
    "    'accept-language': 'en-US,en;q=0.9,ar;q=0.8',\n",
    "    'cache-control': 'no-cache',\n",
    "    'content-type': 'application/x-www-form-urlencoded',\n",
    "    # 'cookie': 'csrftoken=cpBvgDRGLIQ4j3RgScGvH24w9R6cQffX; ds_user_id=18519728814; ps_n=1; ps_l=1; mid=Zl0FuQALAAHWLneH1O51KnPmZbQO; ig_did=8F185B9B-0018-4D2C-9C8B-5861E8826960; dpr=0.8640000224113464; datr=fid7ZoVfi9JAdPRsF4AUt5H9; shbid=\"19508\\\\05418519728814\\\\0541751540486:01f76e5af287c0ac4b0712ad9a199516ec3a212eab65151b15d328a48527f468f5d48c84\"; shbts=\"1720004486\\\\05418519728814\\\\0541751540486:01f756041ca2b44d4b4b77389ca6928566e32f7d821f7125f673e2985202b37c288ae188\"; sessionid=18519728814%3A8CptQEBMl6lstb%3A29%3AAYdUd--zj1AvDDlxLONWLEyqmoeFwK0gn-IUlZcipcg; rur=\"RVA\\\\05418519728814\\\\0541751543175:01f7df8e0d96f9c638821e7792fad32ba1a767e408602bb0dda7dcba5aecf9adb03b956c\"; wd=1582x229',\n",
    "    'origin': 'https://www.instagram.com',\n",
    "    'pragma': 'no-cache',\n",
    "    'priority': 'u=1, i',\n",
    "    'referer': 'https://www.instagram.com/p/C86aabgxXNC/?hl=en',\n",
    "    'sec-ch-prefers-color-scheme': 'dark',\n",
    "    'sec-ch-ua': '\"Not/A)Brand\";v=\"8\", \"Chromium\";v=\"126\", \"Google Chrome\";v=\"126\"',\n",
    "    'sec-ch-ua-full-version-list': '\"Not/A)Brand\";v=\"8.0.0.0\", \"Chromium\";v=\"126.0.6478.127\", \"Google Chrome\";v=\"126.0.6478.127\"',\n",
    "    'sec-ch-ua-mobile': '?0',\n",
    "    'sec-ch-ua-model': '\"\"',\n",
    "    'sec-ch-ua-platform': '\"Windows\"',\n",
    "    'sec-ch-ua-platform-version': '\"10.0.0\"',\n",
    "    'sec-fetch-dest': 'empty',\n",
    "    'sec-fetch-mode': 'cors',\n",
    "    'sec-fetch-site': 'same-origin',\n",
    "    'user-agent': 'Mozilla/5.0 (Windows NT 10.0; Win64; x64) AppleWebKit/537.36 (KHTML, like Gecko) Chrome/126.0.0.0 Safari/537.36',\n",
    "    'x-asbd-id': '129477',\n",
    "    'x-bloks-version-id': '213e4f338be29ab2c08f8071c4feb979c6b2fe37d4124f56e5c4b00e51a21aaf',\n",
    "    'x-csrftoken': 'cpBvgDRGLIQ4j3RgScGvH24w9R6cQffX',\n",
    "    'x-fb-friendly-name': 'PolarisProfilePostsDirectQuery',\n",
    "    'x-fb-lsd': 'DC7iNn2Z-NWJN8Zffof_av',\n",
    "    'x-ig-app-id': '936619743392459',\n",
    "}\n",
    "\n",
    "data = {\n",
    "    'av': '17841418504424966',\n",
    "    'hl': 'en',\n",
    "    '__d': 'www',\n",
    "    '__user': '0',\n",
    "    '__a': '1',\n",
    "    '__req': '1d',\n",
    "    '__hs': '19907.HYP:instagram_web_pkg.2.1..0.1',\n",
    "    'dpr': '1',\n",
    "    '__ccg': 'UNKNOWN',\n",
    "    '__rev': '1014646830',\n",
    "    '__s': 'kea2bd:lp0dbk:9l65ly',\n",
    "    '__hsi': '7387363004652082787',\n",
    "    '__dyn': '7xeUjG1mxu1syUbFp41twpUnwgU7SbzEdF8aUco2qwJxS0k24o0B-q1ew65xO0FE2awpUO0n24oaEnxO1ywOwv89k2C1Fwc60D87u3ifK0EUjwGzEaE2iwNwKwHw8Xxm16wUwtEvw4JwJCwLyES1TwTU9UaQ0Lo6-3u2WE5B08-269wr86C1mwPwUQp1yUb9UK6V8aUuxK3OqcyU-2K',\n",
    "    '__csr': 'gPb2Q6n2ccPErPhAONyN4iBdOqcybVibvumZnivijpVBBChFp4AGUx4zu-x1kDUiAKlaWJki9WAChybGGAKi8CDJqGAFqCgR2F4jAKFp456VogVWCzG-aK5CWG8yoS8XGaF4DyqKdqzojK7ohnBAZ005oromwjk1xw8sw2yxnU1k4bw2Eo0tKV7gighyeNEsw9N0c6qeCgeYE8UrVLc0h1w2c8hw9rw6Qg5WlS0t2E5SE7q0EUW0TA1gz8G4kaw9Iw02nDw',\n",
    "    '__comet_req': '7',\n",
    "    'fb_dtsg': 'NAcO9iIY3ARgsccTS3Y_6oIM_uq6ccudpgU4KtfOtpnNwQbSNFJ76lg:17853667720085245:1683203180',\n",
    "    'jazoest': '26353',\n",
    "    'lsd': 'DC7iNn2Z-NWJN8Zffof_av',\n",
    "    '__spin_r': '1014646830',\n",
    "    '__spin_b': 'trunk',\n",
    "    '__spin_t': '1720004483',\n",
    "    'fb_api_caller_class': 'RelayModern',\n",
    "    'fb_api_req_friendly_name': 'PolarisProfilePostsDirectQuery',\n",
    "    'variables': '{\"data\":{\"count\":12,\"include_relationship_info\":true,\"latest_besties_reel_media\":true,\"latest_reel_media\":true},\"username\":\"fcbarcelona\",\"__relay_internal__pv__PolarisFeedShareMenurelayprovider\":false}',\n",
    "    'server_timestamps': 'true',\n",
    "    'doc_id': '8721952884485930',\n",
    "}\n",
    "\n",
    "response = requests.post('https://www.instagram.com/graphql/query', cookies=cookies, headers=headers, data=data)"
   ]
  }
 ],
 "metadata": {
  "kernelspec": {
   "display_name": "Python 3 (ipykernel)",
   "language": "python",
   "name": "python3"
  },
  "language_info": {
   "codemirror_mode": {
    "name": "ipython",
    "version": 3
   },
   "file_extension": ".py",
   "mimetype": "text/x-python",
   "name": "python",
   "nbconvert_exporter": "python",
   "pygments_lexer": "ipython3",
   "version": "3.10.6"
  }
 },
 "nbformat": 4,
 "nbformat_minor": 5
}
